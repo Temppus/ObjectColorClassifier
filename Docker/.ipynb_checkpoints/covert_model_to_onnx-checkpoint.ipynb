{
 "cells": [
  {
   "cell_type": "code",
   "execution_count": 5,
   "id": "f74b5cdc-d2e1-4d4f-b5bd-072fe49f561c",
   "metadata": {},
   "outputs": [
    {
     "name": "stdout",
     "output_type": "stream",
     "text": [
      "Export done ! rgb_color_classifier.onnx\n"
     ]
    }
   ],
   "source": [
    "import tensorflow as tf\n",
    "import tf2onnx\n",
    "import onnx\n",
    "from tensorflow import keras\n",
    "from keras.models import load_model\n",
    "\n",
    "model = load_model('/workspace/tf-classifier-repo/RGB-Color-Classifier-with-Deep-Learning-using-Keras-and-Tensorflow/RGB Color Classifier ML Model/colormodel_trained_89.h5')\n",
    "\n",
    "onnx_model, _ = tf2onnx.convert.from_keras(model)\n",
    "model_file_name = 'rgb_color_classifier.onnx'\n",
    "onnx.save(onnx_model, model_file_name)\n",
    "\n",
    "print('Export done')\n",
    "print(f'Model exported to {model_file_name}')"
   ]
  },
  {
   "cell_type": "code",
   "execution_count": null,
   "id": "6b54ae56-b9df-404f-a413-b8067d73b89b",
   "metadata": {},
   "outputs": [],
   "source": []
  }
 ],
 "metadata": {
  "kernelspec": {
   "display_name": "Python 3",
   "language": "python",
   "name": "python3"
  },
  "language_info": {
   "codemirror_mode": {
    "name": "ipython",
    "version": 3
   },
   "file_extension": ".py",
   "mimetype": "text/x-python",
   "name": "python",
   "nbconvert_exporter": "python",
   "pygments_lexer": "ipython3",
   "version": "3.6.9"
  }
 },
 "nbformat": 4,
 "nbformat_minor": 5
}
